{
 "cells": [
  {
   "cell_type": "markdown",
   "metadata": {},
   "source": [
    "### Exemplo de teste de hipótese com Bootstraping"
   ]
  },
  {
   "cell_type": "code",
   "execution_count": 93,
   "metadata": {},
   "outputs": [],
   "source": [
    "import numpy as np\n",
    "import matplotlib.pyplot as plt\n",
    "import random\n",
    "random.seed(10)\n",
    "\n",
    "# Imagine um experimento com os seguintes resultados:\n",
    "controle= np.random.randint(5,30,250)\n",
    "tratamento= np.random.randint(5,34,250)"
   ]
  },
  {
   "cell_type": "code",
   "execution_count": 94,
   "metadata": {},
   "outputs": [
    {
     "data": {
      "text/plain": [
       "17.88"
      ]
     },
     "execution_count": 94,
     "metadata": {},
     "output_type": "execute_result"
    }
   ],
   "source": [
    "# A média do controle\n",
    "media_controle_observada = controle.mean()\n",
    "media_controle_observada"
   ]
  },
  {
   "cell_type": "code",
   "execution_count": 95,
   "metadata": {},
   "outputs": [
    {
     "data": {
      "text/plain": [
       "19.404"
      ]
     },
     "execution_count": 95,
     "metadata": {},
     "output_type": "execute_result"
    }
   ],
   "source": [
    "# A média do tratamento\n",
    "media_tratamento_observada = tratamento.mean()\n",
    "media_tratamento_observada"
   ]
  },
  {
   "cell_type": "code",
   "execution_count": 96,
   "metadata": {},
   "outputs": [
    {
     "data": {
      "text/plain": [
       "1.524000000000001"
      ]
     },
     "execution_count": 96,
     "metadata": {},
     "output_type": "execute_result"
    }
   ],
   "source": [
    "# Será que essa diferença de médias observadas é significativa?\n",
    "diff_medias = media_tratamento_observada - media_controle_observada\n",
    "diff_medias"
   ]
  },
  {
   "cell_type": "markdown",
   "metadata": {},
   "source": [
    "#### Teste de Hipótese\n",
    "\n",
    "Iremos testar se o tratamento é maior que o controle (teste unicaudal)"
   ]
  },
  {
   "cell_type": "code",
   "execution_count": 97,
   "metadata": {},
   "outputs": [],
   "source": [
    "# Tamanho dos vetores tratamento e controle\n",
    "n_controle = len(controle)\n",
    "n_tratamento = len(tratamento)\n",
    "\n",
    "# Concatenando os vetores para ter uma única distribuição\n",
    "distribuicao_unica = np.concatenate((controle, tratamento))"
   ]
  },
  {
   "cell_type": "code",
   "execution_count": 98,
   "metadata": {},
   "outputs": [],
   "source": [
    "# Aqui são realizadas as simulações para o cálculo do p-valor. \n",
    "\n",
    "n_simulacoes = 10000\n",
    "vetor_diferenca_medias = [None]*n_simulacoes\n",
    "\n",
    "for ii in range(0,n_simulacoes):\n",
    "    \n",
    "    simul_controle = np.random.choice(distribuicao_unica, n_controle, replace=True)\n",
    "    simul_tratamento = np.random.choice(distribuicao_unica, n_tratamento, replace=True)\n",
    "    vetor_diferenca_medias[ii]= simul_tratamento.mean() - simul_controle.mean()    "
   ]
  },
  {
   "cell_type": "markdown",
   "metadata": {},
   "source": [
    "Ao concatenarmos os vetores de tratamento e controle e pegarmos valores aleatórios dentro dessa nova distribuição, estamos simulando o caso em que a hipótese nula é verdadeira, ou seja, de fato os dois grupos são iguais\n",
    "\n",
    "O vetor_diferenca_medias contém a diferença de médias observadas na simulação, sob a hipótese que os dois vetores (tratamento e controle) são iguais.\n",
    "\n",
    "Abaixo, o histograma do vetor de diferenças da simulação. \n",
    "- Note que os valores estão concentrados ao redor de 0 (o que é esperado, dado que fizemos samples da mesma distribuição)\n",
    "- Repare na dispersão dos dados e como a maioria se encontra entre -2,0 e 2,0\n",
    "\n",
    "Apenas olhando para esta distribuição, tente responder: você acha que a diferença de médias observadas entre o controle e tratamento inicial de 1,52 é significativa? Qual parece ser a chance de esse valor ter sido gerado por distribuições de tratamento e controle iguais (hipótese nula)?\n"
   ]
  },
  {
   "cell_type": "code",
   "execution_count": 99,
   "metadata": {},
   "outputs": [
    {
     "data": {
      "image/png": "[encoded data removed]",
      "text/plain": [
       "<Figure size 432x288 with 1 Axes>"
      ]
     },
     "metadata": {
      "needs_background": "light"
     },
     "output_type": "display_data"
    }
   ],
   "source": [
    "_ = plt.hist(vetor_diferenca_medias, bins='auto')\n",
    "plt.show()"
   ]
  },
  {
   "cell_type": "markdown",
   "metadata": {},
   "source": [
    "Note que, nesta simulação, algumas diferenças de médias de fato foram próximas da observada de 1,52 e até mais extremos do que isso. Ou seja, mesmo assumindo que as duas distribuições são iguais, ainda sim em alguns poucos casos observamos diferenças de médias dessa ordem.\n",
    "\n",
    "Ao mesmo tempo, note que se a diferença entre tratamento e controle inicial fosse 0,3 ao invés de 1,52, estaríamos em uma região bem mais frequente do histograma acima. Ou seja, neste caso, assumindo a hipótese nula, fomos capazes de observar várias situações em que a diferença de médias foi 0,3 ou mais extremo.\n",
    "\n",
    "O p-valor é justamente essa medida: a chance de obter valores mais extremos sob a hipótese nula.\n"
   ]
  },
  {
   "cell_type": "code",
   "execution_count": 100,
   "metadata": {},
   "outputs": [
    {
     "data": {
      "text/plain": [
       "147"
      ]
     },
     "execution_count": 100,
     "metadata": {},
     "output_type": "execute_result"
    }
   ],
   "source": [
    "# A quantidade de vezes que foi obtido valores tão ou mais extremos foi:\n",
    "n_extremos = len(np.where(vetor_diferenca_medias >= diff_medias)[0])\n",
    "n_extremos"
   ]
  },
  {
   "cell_type": "code",
   "execution_count": 101,
   "metadata": {},
   "outputs": [
    {
     "data": {
      "text/plain": [
       "0.0147"
      ]
     },
     "execution_count": 101,
     "metadata": {},
     "output_type": "execute_result"
    }
   ],
   "source": [
    "# De um total de 10000 simulações, apenas 147 foram tão ou mais extremas do que o valor observado. Ou seja, o pvalor é de:\n",
    "pvalor = n_extremos/ n_simulacoes\n",
    "pvalor"
   ]
  },
  {
   "cell_type": "markdown",
   "metadata": {},
   "source": [
    "Ou seja, ao afirmamos que a média da distribuição do tratamento é maior que a do controle, temos 1,47% de chance de estarmos fazendo uma afirmação falsa, conforme demonstrado na nossa simulação acima.\n",
    "\n",
    "Para um video introdutório sobre teste de hipótese usando bootstrapping, veja: https://www.youtube.com/watch?v=isEcgoCmlO0"
   ]
  }
 ],
 "metadata": {
  "kernelspec": {
   "display_name": "Python 3",
   "language": "python",
   "name": "python3"
  },
  "language_info": {
   "codemirror_mode": {
    "name": "ipython",
    "version": 3
   },
   "file_extension": ".py",
   "mimetype": "text/x-python",
   "name": "python",
   "nbconvert_exporter": "python",
   "pygments_lexer": "ipython3",
   "version": "3.7.6"
  }
 },
 "nbformat": 4,
 "nbformat_minor": 4
}
