{
 "cells": [
  {
   "cell_type": "markdown",
   "metadata": {},
   "source": [
    "### Exemplo de teste de hipótese com Bootstraping"
   ]
  },
  {
   "cell_type": "code",
   "execution_count": 1,
   "metadata": {},
   "outputs": [
    {
     "name": "stderr",
     "output_type": "stream",
     "text": [
      "In C:\\Users\\Borba\\anaconda3\\lib\\site-packages\\matplotlib\\mpl-data\\stylelib\\_classic_test.mplstyle: \n",
      "The text.latex.preview rcparam was deprecated in Matplotlib 3.3 and will be removed two minor releases later.\n",
      "In C:\\Users\\Borba\\anaconda3\\lib\\site-packages\\matplotlib\\mpl-data\\stylelib\\_classic_test.mplstyle: \n",
      "The mathtext.fallback_to_cm rcparam was deprecated in Matplotlib 3.3 and will be removed two minor releases later.\n",
      "In C:\\Users\\Borba\\anaconda3\\lib\\site-packages\\matplotlib\\mpl-data\\stylelib\\_classic_test.mplstyle: Support for setting the 'mathtext.fallback_to_cm' rcParam is deprecated since 3.3 and will be removed two minor releases later; use 'mathtext.fallback : 'cm' instead.\n",
      "In C:\\Users\\Borba\\anaconda3\\lib\\site-packages\\matplotlib\\mpl-data\\stylelib\\_classic_test.mplstyle: \n",
      "The validate_bool_maybe_none function was deprecated in Matplotlib 3.3 and will be removed two minor releases later.\n",
      "In C:\\Users\\Borba\\anaconda3\\lib\\site-packages\\matplotlib\\mpl-data\\stylelib\\_classic_test.mplstyle: \n",
      "The savefig.jpeg_quality rcparam was deprecated in Matplotlib 3.3 and will be removed two minor releases later.\n",
      "In C:\\Users\\Borba\\anaconda3\\lib\\site-packages\\matplotlib\\mpl-data\\stylelib\\_classic_test.mplstyle: \n",
      "The keymap.all_axes rcparam was deprecated in Matplotlib 3.3 and will be removed two minor releases later.\n",
      "In C:\\Users\\Borba\\anaconda3\\lib\\site-packages\\matplotlib\\mpl-data\\stylelib\\_classic_test.mplstyle: \n",
      "The animation.avconv_path rcparam was deprecated in Matplotlib 3.3 and will be removed two minor releases later.\n",
      "In C:\\Users\\Borba\\anaconda3\\lib\\site-packages\\matplotlib\\mpl-data\\stylelib\\_classic_test.mplstyle: \n",
      "The animation.avconv_args rcparam was deprecated in Matplotlib 3.3 and will be removed two minor releases later.\n"
     ]
    }
   ],
   "source": [
    "import numpy as np\n",
    "import matplotlib.pyplot as plt\n",
    "import random\n",
    "from scipy import stats\n",
    "import numpy as np\n",
    "import pandas as pd\n",
    "import statsmodels.formula.api as smf\n",
    "\n",
    "random.seed(190)\n",
    "\n",
    "mu = 300\n",
    "delta_mu_tratamento = 10\n",
    "sigma = 100\n",
    "N=250\n",
    "\n",
    "# Imagine um experimento com os seguintes resultados:\n",
    "controle= np.random.normal(mu, sigma, N)\n",
    "tratamento= np.random.normal(mu + delta_mu_tratamento, sigma, N)"
   ]
  },
  {
   "cell_type": "code",
   "execution_count": 2,
   "metadata": {},
   "outputs": [
    {
     "data": {
      "text/plain": [
       "299.2829001553272"
      ]
     },
     "execution_count": 2,
     "metadata": {},
     "output_type": "execute_result"
    }
   ],
   "source": [
    "# A média do controle\n",
    "media_controle_observada = controle.mean()\n",
    "media_controle_observada"
   ]
  },
  {
   "cell_type": "code",
   "execution_count": 3,
   "metadata": {},
   "outputs": [
    {
     "data": {
      "image/png": "[encoded data removed]",
      "text/plain": [
       "<Figure size 432x288 with 1 Axes>"
      ]
     },
     "metadata": {
      "needs_background": "light"
     },
     "output_type": "display_data"
    }
   ],
   "source": [
    "_ = plt.hist(controle, bins='auto')\n",
    "plt.show()"
   ]
  },
  {
   "cell_type": "code",
   "execution_count": 4,
   "metadata": {},
   "outputs": [
    {
     "data": {
      "text/plain": [
       "309.59448594632914"
      ]
     },
     "execution_count": 4,
     "metadata": {},
     "output_type": "execute_result"
    }
   ],
   "source": [
    "# A média do tratamento\n",
    "media_tratamento_observada = tratamento.mean()\n",
    "media_tratamento_observada"
   ]
  },
  {
   "cell_type": "code",
   "execution_count": 5,
   "metadata": {},
   "outputs": [
    {
     "data": {
      "image/png": "[encoded data removed]",
      "text/plain": [
       "<Figure size 432x288 with 1 Axes>"
      ]
     },
     "metadata": {
      "needs_background": "light"
     },
     "output_type": "display_data"
    }
   ],
   "source": [
    "_ = plt.hist(tratamento, bins='auto')\n",
    "plt.show()"
   ]
  },
  {
   "cell_type": "code",
   "execution_count": 6,
   "metadata": {},
   "outputs": [
    {
     "data": {
      "text/plain": [
       "10.31158579100196"
      ]
     },
     "execution_count": 6,
     "metadata": {},
     "output_type": "execute_result"
    }
   ],
   "source": [
    "# Será que essa diferença de médias observadas é significativa?\n",
    "diff_medias = media_tratamento_observada - media_controle_observada\n",
    "diff_medias"
   ]
  },
  {
   "cell_type": "markdown",
   "metadata": {},
   "source": [
    "#### Teste de Hipótese\n",
    "\n",
    "Iremos testar se o tratamento é maior que o controle (teste unicaudal)"
   ]
  },
  {
   "cell_type": "code",
   "execution_count": 7,
   "metadata": {},
   "outputs": [],
   "source": [
    "# Tamanho dos vetores tratamento e controle\n",
    "n_controle = len(controle)\n",
    "n_tratamento = len(tratamento)\n",
    "\n",
    "# Concatenando os vetores para ter uma única distribuição\n",
    "distribuicao_unica = np.concatenate((controle, tratamento))"
   ]
  },
  {
   "cell_type": "code",
   "execution_count": 8,
   "metadata": {},
   "outputs": [],
   "source": [
    "# Aqui são realizadas as simulações para o cálculo do p-valor. \n",
    "\n",
    "n_simulacoes = 100000\n",
    "vetor_diferenca_medias = [None]*n_simulacoes\n",
    "\n",
    "for ii in range(0,n_simulacoes):\n",
    "    \n",
    "    simul_controle = np.random.choice(distribuicao_unica, n_controle, replace=True)\n",
    "    simul_tratamento = np.random.choice(distribuicao_unica, n_tratamento, replace=True)\n",
    "    vetor_diferenca_medias[ii]= simul_tratamento.mean() - simul_controle.mean()    "
   ]
  },
  {
   "cell_type": "markdown",
   "metadata": {},
   "source": [
    "Ao concatenarmos os vetores de tratamento e controle e pegarmos valores aleatórios dentro dessa nova distribuição, estamos simulando o caso em que a hipótese nula é verdadeira, ou seja, de fato os dois grupos são iguais\n",
    "\n",
    "O vetor_diferenca_medias contém a diferença de médias observadas na simulação, sob a hipótese que os dois vetores (tratamento e controle) são iguais.\n",
    "\n",
    "Abaixo, o histograma do vetor de diferenças da simulação. \n",
    "- Note que os valores estão concentrados ao redor de 0 (o que é esperado, dado que fizemos samples da mesma distribuição)\n",
    "- Repare na dispersão dos dados\n",
    "\n",
    "Apenas olhando para esta distribuição, tente responder: você acha que a diferença de médias observadas entre o controle e tratamento inicial é significativa? Qual parece ser a chance de esse valor ter sido gerado por distribuições de tratamento e controle iguais (hipótese nula)?\n"
   ]
  },
  {
   "cell_type": "code",
   "execution_count": 9,
   "metadata": {},
   "outputs": [
    {
     "data": {
      "image/png": "[encoded data removed]",
      "text/plain": [
       "<Figure size 432x288 with 1 Axes>"
      ]
     },
     "metadata": {
      "needs_background": "light"
     },
     "output_type": "display_data"
    }
   ],
   "source": [
    "_ = plt.hist(vetor_diferenca_medias, bins='auto')\n",
    "plt.show()"
   ]
  },
  {
   "cell_type": "markdown",
   "metadata": {},
   "source": [
    "O p-valor é justamente a chance de obter valores mais extremos sob a hipótese nula."
   ]
  },
  {
   "cell_type": "code",
   "execution_count": 10,
   "metadata": {},
   "outputs": [
    {
     "data": {
      "text/plain": [
       "27147"
      ]
     },
     "execution_count": 10,
     "metadata": {},
     "output_type": "execute_result"
    }
   ],
   "source": [
    "# A quantidade de vezes que foi obtido valores tão ou mais extremos foi:\n",
    "n_extremos_gt = len(np.where(vetor_diferenca_medias >= abs(diff_medias))[0])\n",
    "n_extremos_lt = len(np.where(vetor_diferenca_medias <= -abs(diff_medias))[0])\n",
    "\n",
    "n_extremos = n_extremos_gt + n_extremos_lt\n",
    "n_extremos"
   ]
  },
  {
   "cell_type": "code",
   "execution_count": 11,
   "metadata": {},
   "outputs": [
    {
     "data": {
      "text/plain": [
       "10.31158579100196"
      ]
     },
     "execution_count": 11,
     "metadata": {},
     "output_type": "execute_result"
    }
   ],
   "source": [
    "diff_medias"
   ]
  },
  {
   "cell_type": "code",
   "execution_count": 12,
   "metadata": {},
   "outputs": [
    {
     "data": {
      "text/plain": [
       "13465"
      ]
     },
     "execution_count": 12,
     "metadata": {},
     "output_type": "execute_result"
    }
   ],
   "source": [
    "# Para cálculos monocaudal, não utilizamos o valos absoluto!\n",
    "# Greater\n",
    "n_extremos_greater = len(np.where(vetor_diferenca_medias >= (diff_medias))[0])\n",
    "n_extremos_greater"
   ]
  },
  {
   "cell_type": "code",
   "execution_count": 13,
   "metadata": {},
   "outputs": [
    {
     "data": {
      "text/plain": [
       "86535"
      ]
     },
     "execution_count": 13,
     "metadata": {},
     "output_type": "execute_result"
    }
   ],
   "source": [
    "n_extremos_less = len(np.where(vetor_diferenca_medias <= (diff_medias))[0])\n",
    "n_extremos_less"
   ]
  },
  {
   "cell_type": "markdown",
   "metadata": {},
   "source": [
    "### Comparando p-valor do bootstrapping com t-test"
   ]
  },
  {
   "cell_type": "markdown",
   "metadata": {},
   "source": [
    "#### Bicaudal"
   ]
  },
  {
   "cell_type": "code",
   "execution_count": 14,
   "metadata": {},
   "outputs": [
    {
     "data": {
      "text/plain": [
       "27.1"
      ]
     },
     "execution_count": 14,
     "metadata": {},
     "output_type": "execute_result"
    }
   ],
   "source": [
    "treat_pvalue = lambda x: round(100*x, 1)\n",
    "\n",
    "# P valor é a chance de obter valores tão ou mais extremos que o observado, tanto para mais quando para menos:\n",
    "pvalor_boot_2_sided = treat_pvalue(n_extremos/ n_simulacoes)\n",
    "pvalor_boot_2_sided"
   ]
  },
  {
   "cell_type": "code",
   "execution_count": 15,
   "metadata": {},
   "outputs": [
    {
     "data": {
      "text/plain": [
       "27.0"
      ]
     },
     "execution_count": 15,
     "metadata": {},
     "output_type": "execute_result"
    }
   ],
   "source": [
    "# Usando a função t_test\n",
    "t2, pvalor_ttest_2_sided = stats.ttest_ind(tratamento, controle, equal_var = False, alternative = 'two-sided')\n",
    "pvalor_ttest_2_sided = treat_pvalue(pvalor_ttest_2_sided)\n",
    "pvalor_ttest_2_sided\n"
   ]
  },
  {
   "cell_type": "markdown",
   "metadata": {},
   "source": [
    "#### Monocaudal: Less"
   ]
  },
  {
   "cell_type": "code",
   "execution_count": 16,
   "metadata": {},
   "outputs": [
    {
     "data": {
      "text/plain": [
       "86.5"
      ]
     },
     "execution_count": 16,
     "metadata": {},
     "output_type": "execute_result"
    }
   ],
   "source": [
    "pvalor_boot_less = treat_pvalue(n_extremos_less/ n_simulacoes)\n",
    "pvalor_boot_less"
   ]
  },
  {
   "cell_type": "code",
   "execution_count": 17,
   "metadata": {},
   "outputs": [
    {
     "data": {
      "text/plain": [
       "86.5"
      ]
     },
     "execution_count": 17,
     "metadata": {},
     "output_type": "execute_result"
    }
   ],
   "source": [
    "# Exemplo de one-sided (less)\n",
    "t2, pvalor_ttest_less = stats.ttest_ind(tratamento, controle, equal_var = True, alternative = 'less')\n",
    "pvalor_ttest_less = treat_pvalue(pvalor_ttest_less)\n",
    "pvalor_ttest_less"
   ]
  },
  {
   "cell_type": "markdown",
   "metadata": {},
   "source": [
    "#### Monocaudal: Greater"
   ]
  },
  {
   "cell_type": "code",
   "execution_count": 18,
   "metadata": {},
   "outputs": [
    {
     "data": {
      "text/plain": [
       "13.5"
      ]
     },
     "execution_count": 18,
     "metadata": {},
     "output_type": "execute_result"
    }
   ],
   "source": [
    "pvalor_boot_greater = treat_pvalue(n_extremos_greater/ n_simulacoes)\n",
    "pvalor_boot_greater"
   ]
  },
  {
   "cell_type": "code",
   "execution_count": 19,
   "metadata": {},
   "outputs": [
    {
     "data": {
      "text/plain": [
       "13.5"
      ]
     },
     "execution_count": 19,
     "metadata": {},
     "output_type": "execute_result"
    }
   ],
   "source": [
    "t2, pvalor_ttest_greater = stats.ttest_ind(tratamento, controle, equal_var = True, alternative = 'greater')\n",
    "pvalor_ttest_greater = treat_pvalue(pvalor_ttest_greater)\n",
    "pvalor_ttest_greater"
   ]
  },
  {
   "cell_type": "markdown",
   "metadata": {},
   "source": [
    "### Comparando com resultados de diff-in-diff"
   ]
  },
  {
   "cell_type": "code",
   "execution_count": 20,
   "metadata": {},
   "outputs": [],
   "source": [
    "# Assumindo que ambos os sinais tinham o mesmo comportamento antes da intervenção\n",
    "df_control_pre = pd.DataFrame.from_dict({'post': [0]*N, 'treat': [0]*N, 'value': np.random.normal(mu, sigma, N)})\n",
    "df_treat_pre = pd.DataFrame.from_dict({'post': [0]*N, 'treat': [1]*N, 'value': np.random.normal(mu, sigma, N)})\n",
    "\n",
    "df_control_post = pd.DataFrame.from_dict({'post': [1]*N, 'treat': [0]*N, 'value': controle})\n",
    "df_treat_post = pd.DataFrame.from_dict({'post': [1]*N, 'treat': [1]*N, 'value': tratamento})"
   ]
  },
  {
   "cell_type": "code",
   "execution_count": 21,
   "metadata": {},
   "outputs": [
    {
     "data": {
      "text/html": [
       "<div>\n",
       "<style scoped>\n",
       "    .dataframe tbody tr th:only-of-type {\n",
       "        vertical-align: middle;\n",
       "    }\n",
       "\n",
       "    .dataframe tbody tr th {\n",
       "        vertical-align: top;\n",
       "    }\n",
       "\n",
       "    .dataframe thead th {\n",
       "        text-align: right;\n",
       "    }\n",
       "</style>\n",
       "<table border=\"1\" class=\"dataframe\">\n",
       "  <thead>\n",
       "    <tr style=\"text-align: right;\">\n",
       "      <th></th>\n",
       "      <th>post</th>\n",
       "      <th>treat</th>\n",
       "      <th>value</th>\n",
       "      <th>post_treat</th>\n",
       "    </tr>\n",
       "  </thead>\n",
       "  <tbody>\n",
       "    <tr>\n",
       "      <th>0</th>\n",
       "      <td>0</td>\n",
       "      <td>0</td>\n",
       "      <td>400.199405</td>\n",
       "      <td>0</td>\n",
       "    </tr>\n",
       "    <tr>\n",
       "      <th>1</th>\n",
       "      <td>0</td>\n",
       "      <td>0</td>\n",
       "      <td>305.203425</td>\n",
       "      <td>0</td>\n",
       "    </tr>\n",
       "    <tr>\n",
       "      <th>2</th>\n",
       "      <td>0</td>\n",
       "      <td>0</td>\n",
       "      <td>193.244844</td>\n",
       "      <td>0</td>\n",
       "    </tr>\n",
       "    <tr>\n",
       "      <th>3</th>\n",
       "      <td>0</td>\n",
       "      <td>0</td>\n",
       "      <td>112.730827</td>\n",
       "      <td>0</td>\n",
       "    </tr>\n",
       "    <tr>\n",
       "      <th>4</th>\n",
       "      <td>0</td>\n",
       "      <td>0</td>\n",
       "      <td>178.681817</td>\n",
       "      <td>0</td>\n",
       "    </tr>\n",
       "    <tr>\n",
       "      <th>...</th>\n",
       "      <td>...</td>\n",
       "      <td>...</td>\n",
       "      <td>...</td>\n",
       "      <td>...</td>\n",
       "    </tr>\n",
       "    <tr>\n",
       "      <th>995</th>\n",
       "      <td>1</td>\n",
       "      <td>1</td>\n",
       "      <td>242.682396</td>\n",
       "      <td>1</td>\n",
       "    </tr>\n",
       "    <tr>\n",
       "      <th>996</th>\n",
       "      <td>1</td>\n",
       "      <td>1</td>\n",
       "      <td>382.517948</td>\n",
       "      <td>1</td>\n",
       "    </tr>\n",
       "    <tr>\n",
       "      <th>997</th>\n",
       "      <td>1</td>\n",
       "      <td>1</td>\n",
       "      <td>336.601305</td>\n",
       "      <td>1</td>\n",
       "    </tr>\n",
       "    <tr>\n",
       "      <th>998</th>\n",
       "      <td>1</td>\n",
       "      <td>1</td>\n",
       "      <td>288.770646</td>\n",
       "      <td>1</td>\n",
       "    </tr>\n",
       "    <tr>\n",
       "      <th>999</th>\n",
       "      <td>1</td>\n",
       "      <td>1</td>\n",
       "      <td>353.845628</td>\n",
       "      <td>1</td>\n",
       "    </tr>\n",
       "  </tbody>\n",
       "</table>\n",
       "<p>1000 rows × 4 columns</p>\n",
       "</div>"
      ],
      "text/plain": [
       "     post  treat       value  post_treat\n",
       "0       0      0  400.199405           0\n",
       "1       0      0  305.203425           0\n",
       "2       0      0  193.244844           0\n",
       "3       0      0  112.730827           0\n",
       "4       0      0  178.681817           0\n",
       "..    ...    ...         ...         ...\n",
       "995     1      1  242.682396           1\n",
       "996     1      1  382.517948           1\n",
       "997     1      1  336.601305           1\n",
       "998     1      1  288.770646           1\n",
       "999     1      1  353.845628           1\n",
       "\n",
       "[1000 rows x 4 columns]"
      ]
     },
     "execution_count": 21,
     "metadata": {},
     "output_type": "execute_result"
    }
   ],
   "source": [
    "df = df_control_pre.append(df_treat_pre).append(df_control_post).append(df_treat_post)\n",
    "df = df.reset_index(drop = True)\n",
    "df['post_treat'] = df['post'] * df['treat']\n",
    "df"
   ]
  },
  {
   "cell_type": "code",
   "execution_count": 22,
   "metadata": {},
   "outputs": [
    {
     "data": {
      "text/html": [
       "<table class=\"simpletable\">\n",
       "<tr>\n",
       "       <td></td>         <th>coef</th>     <th>std err</th>      <th>t</th>      <th>P>|t|</th>  <th>[0.025</th>    <th>0.975]</th>  \n",
       "</tr>\n",
       "<tr>\n",
       "  <th>Intercept</th>  <td>  297.2470</td> <td>    3.644</td> <td>   81.578</td> <td> 0.000</td> <td>  290.097</td> <td>  304.397</td>\n",
       "</tr>\n",
       "<tr>\n",
       "  <th>post_treat</th> <td>   12.3475</td> <td>    7.287</td> <td>    1.694</td> <td> 0.091</td> <td>   -1.953</td> <td>   26.648</td>\n",
       "</tr>\n",
       "</table>"
      ],
      "text/plain": [
       "<class 'statsmodels.iolib.table.SimpleTable'>"
      ]
     },
     "execution_count": 22,
     "metadata": {},
     "output_type": "execute_result"
    }
   ],
   "source": [
    "smf.ols('value ~ post_treat', data=df).fit().summary().tables[1]"
   ]
  },
  {
   "cell_type": "code",
   "execution_count": 23,
   "metadata": {},
   "outputs": [
    {
     "data": {
      "text/html": [
       "<table class=\"simpletable\">\n",
       "<tr>\n",
       "       <td></td>         <th>coef</th>     <th>std err</th>      <th>t</th>      <th>P>|t|</th>  <th>[0.025</th>    <th>0.975]</th>  \n",
       "</tr>\n",
       "<tr>\n",
       "  <th>Intercept</th>  <td>  296.1384</td> <td>    6.317</td> <td>   46.880</td> <td> 0.000</td> <td>  283.742</td> <td>  308.534</td>\n",
       "</tr>\n",
       "<tr>\n",
       "  <th>post</th>       <td>    3.1445</td> <td>    8.934</td> <td>    0.352</td> <td> 0.725</td> <td>  -14.386</td> <td>   20.675</td>\n",
       "</tr>\n",
       "<tr>\n",
       "  <th>treat</th>      <td>    0.1812</td> <td>    8.934</td> <td>    0.020</td> <td> 0.984</td> <td>  -17.349</td> <td>   17.712</td>\n",
       "</tr>\n",
       "<tr>\n",
       "  <th>post:treat</th> <td>   10.1304</td> <td>   12.634</td> <td>    0.802</td> <td> 0.423</td> <td>  -14.662</td> <td>   34.923</td>\n",
       "</tr>\n",
       "</table>"
      ],
      "text/plain": [
       "<class 'statsmodels.iolib.table.SimpleTable'>"
      ]
     },
     "execution_count": 23,
     "metadata": {},
     "output_type": "execute_result"
    }
   ],
   "source": [
    "smf.ols('value ~ post*treat', data=df).fit().summary().tables[1]"
   ]
  },
  {
   "cell_type": "code",
   "execution_count": 24,
   "metadata": {},
   "outputs": [
    {
     "data": {
      "text/plain": [
       "10.31158579100196"
      ]
     },
     "execution_count": 24,
     "metadata": {},
     "output_type": "execute_result"
    }
   ],
   "source": [
    "diff_medias"
   ]
  },
  {
   "cell_type": "code",
   "execution_count": 25,
   "metadata": {},
   "outputs": [
    {
     "data": {
      "text/plain": [
       "13.5"
      ]
     },
     "execution_count": 25,
     "metadata": {},
     "output_type": "execute_result"
    }
   ],
   "source": [
    "pvalor_boot_greater "
   ]
  },
  {
   "cell_type": "markdown",
   "metadata": {},
   "source": [
    "Para um video introdutório sobre teste de hipótese usando bootstrapping, veja: https://www.youtube.com/watch?v=isEcgoCmlO0"
   ]
  }
 ],
 "metadata": {
  "kernelspec": {
   "display_name": "Python 3",
   "language": "python",
   "name": "python3"
  },
  "language_info": {
   "codemirror_mode": {
    "name": "ipython",
    "version": 3
   },
   "file_extension": ".py",
   "mimetype": "text/x-python",
   "name": "python",
   "nbconvert_exporter": "python",
   "pygments_lexer": "ipython3",
   "version": "3.7.6"
  }
 },
 "nbformat": 4,
 "nbformat_minor": 4
}
