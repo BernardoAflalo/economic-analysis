{
 "cells": [
  {
   "cell_type": "markdown",
   "metadata": {},
   "source": [
    "## Exercício: Curva de Benefício\n",
    "\n",
    "Assuma que estamos lidando com um problema de churn e gostaríamos de entender qual o threshold ótimo da minha classificação. Considere que:\n",
    "- `y_pred` é o output do meu classificador, indicando a probabilidade de um cliente dar churn, obtido em um backtest\n",
    "- `y` é o valor real medido, no backtest\n",
    "\n",
    "Nesta ação, os clientes identificados com alta probabilidade de churn irão receber um voucher de R$30,00 de compras, através de uma ação no próprio site e divulgação por push. Assuma ainda que:\n",
    "\n",
    "- Cada cliente tem um LTV potencial futuro de R\\$ 200,00 (ou seja, perder um cliente custa esse valor para a empresa)\n",
    "- A ação comercial é 100% eficaz para evitar o churn: O cliente impactado pela iniciativa tem 100% de chance de permanecer na empresa\n",
    "\n",
    "\n",
    "\n",
    "Obs.: Para cálculo dos valores financeiros, a sugestão é sempre comparar com um caso de referência (ex. caso não houvesse nenhum modelo de churn)\n",
    "\n",
    "- Valor Monetário de **TN: 0,00** - clientes que não deram churn e que meu modelo indicou corretamente\n",
    "- Valor Monetário de **FP: -30,00** - clientes que não dariam churn, mas o modelo apontou que dariam. Neste caso, minha ação de evitar churn foi em vão\n",
    "- Valor Monetário de **FN: 0,00** - clientes que deram churn e meu modelo não detectou. Neste caso, perco o cliente, mas perderia de qualquer forma se não houvesse o modelo (importância de definir um caso de referência!)\n",
    "- Valor Monetário de **TP: 170,00** - clientes que eu corretamente identifiquei como churn e consegui evitar com a ação comercial. Neste caso, mantenho um cliente avaliado em 200,00, gastando um total de 30,00"
   ]
  },
  {
   "cell_type": "code",
   "execution_count": 1,
   "metadata": {},
   "outputs": [
    {
     "name": "stderr",
     "output_type": "stream",
     "text": [
      "In C:\\Users\\Borba\\anaconda3\\lib\\site-packages\\matplotlib\\mpl-data\\stylelib\\_classic_test.mplstyle: \n",
      "The text.latex.preview rcparam was deprecated in Matplotlib 3.3 and will be removed two minor releases later.\n",
      "In C:\\Users\\Borba\\anaconda3\\lib\\site-packages\\matplotlib\\mpl-data\\stylelib\\_classic_test.mplstyle: \n",
      "The mathtext.fallback_to_cm rcparam was deprecated in Matplotlib 3.3 and will be removed two minor releases later.\n",
      "In C:\\Users\\Borba\\anaconda3\\lib\\site-packages\\matplotlib\\mpl-data\\stylelib\\_classic_test.mplstyle: Support for setting the 'mathtext.fallback_to_cm' rcParam is deprecated since 3.3 and will be removed two minor releases later; use 'mathtext.fallback : 'cm' instead.\n",
      "In C:\\Users\\Borba\\anaconda3\\lib\\site-packages\\matplotlib\\mpl-data\\stylelib\\_classic_test.mplstyle: \n",
      "The validate_bool_maybe_none function was deprecated in Matplotlib 3.3 and will be removed two minor releases later.\n",
      "In C:\\Users\\Borba\\anaconda3\\lib\\site-packages\\matplotlib\\mpl-data\\stylelib\\_classic_test.mplstyle: \n",
      "The savefig.jpeg_quality rcparam was deprecated in Matplotlib 3.3 and will be removed two minor releases later.\n",
      "In C:\\Users\\Borba\\anaconda3\\lib\\site-packages\\matplotlib\\mpl-data\\stylelib\\_classic_test.mplstyle: \n",
      "The keymap.all_axes rcparam was deprecated in Matplotlib 3.3 and will be removed two minor releases later.\n",
      "In C:\\Users\\Borba\\anaconda3\\lib\\site-packages\\matplotlib\\mpl-data\\stylelib\\_classic_test.mplstyle: \n",
      "The animation.avconv_path rcparam was deprecated in Matplotlib 3.3 and will be removed two minor releases later.\n",
      "In C:\\Users\\Borba\\anaconda3\\lib\\site-packages\\matplotlib\\mpl-data\\stylelib\\_classic_test.mplstyle: \n",
      "The animation.avconv_args rcparam was deprecated in Matplotlib 3.3 and will be removed two minor releases later.\n"
     ]
    }
   ],
   "source": [
    "import numpy as np\n",
    "import random\n",
    "import pandas as pd\n",
    "from sklearn.metrics import confusion_matrix, roc_auc_score, f1_score\n",
    "import matplotlib.pyplot as plt\n",
    "from sklearn import metrics\n",
    "%matplotlib inline\n",
    "\n",
    "N = 10000\n",
    "y_pred = np.random.poisson(10, N)\n",
    "y_pred = y_pred/max(y_pred)\n",
    "\n",
    "# Create y\n",
    "y = y_pred -0.2 + np.random.randn(N)/5\n",
    "y = y.round(0)\n",
    "y = np.clip(y, 0, 1)"
   ]
  },
  {
   "cell_type": "code",
   "execution_count": 2,
   "metadata": {},
   "outputs": [
    {
     "data": {
      "image/png": "[encoded data removed]",
      "text/plain": [
       "<Figure size 432x288 with 1 Axes>"
      ]
     },
     "metadata": {
      "needs_background": "light"
     },
     "output_type": "display_data"
    }
   ],
   "source": [
    "count, bins, ignored = plt.hist(y_pred, 20, density=True)\n",
    "plt.show()"
   ]
  },
  {
   "cell_type": "code",
   "execution_count": 21,
   "metadata": {},
   "outputs": [
    {
     "data": {
      "text/plain": [
       "11.77"
      ]
     },
     "execution_count": 21,
     "metadata": {},
     "output_type": "execute_result"
    }
   ],
   "source": [
    "100*sum(y)/len(y)"
   ]
  },
  {
   "cell_type": "code",
   "execution_count": 3,
   "metadata": {},
   "outputs": [
    {
     "data": {
      "image/png": "[encoded data removed]",
      "text/plain": [
       "<Figure size 432x288 with 1 Axes>"
      ]
     },
     "metadata": {
      "needs_background": "light"
     },
     "output_type": "display_data"
    }
   ],
   "source": [
    "count, bins, ignored = plt.hist(y, 20, density=True)\n",
    "plt.show()"
   ]
  },
  {
   "cell_type": "markdown",
   "metadata": {},
   "source": [
    "### Métrica - AUC\n",
    "\n",
    "Visualizando métricas simples, que independem do theshold"
   ]
  },
  {
   "cell_type": "code",
   "execution_count": 4,
   "metadata": {},
   "outputs": [
    {
     "data": {
      "text/plain": [
       "0.8027915857902479"
      ]
     },
     "execution_count": 4,
     "metadata": {},
     "output_type": "execute_result"
    }
   ],
   "source": [
    "roc_auc_score(y, y_pred)"
   ]
  },
  {
   "cell_type": "markdown",
   "metadata": {},
   "source": [
    "### Confusion Matrix\n",
    "Pela matriz de confusão, obtemos os valores de TN, FN, TP, FP"
   ]
  },
  {
   "cell_type": "code",
   "execution_count": 5,
   "metadata": {},
   "outputs": [
    {
     "data": {
      "text/plain": [
       "array([[6593, 2230],\n",
       "       [ 346,  831]], dtype=int64)"
      ]
     },
     "execution_count": 5,
     "metadata": {},
     "output_type": "execute_result"
    }
   ],
   "source": [
    "threshold = 0.5\n",
    "y_pred_round = [1 if x >= threshold else 0 for x in y_pred]\n",
    "CM = confusion_matrix(y, y_pred_round)\n",
    "CM"
   ]
  },
  {
   "cell_type": "code",
   "execution_count": 12,
   "metadata": {},
   "outputs": [
    {
     "data": {
      "text/plain": [
       "0.39216611609249646"
      ]
     },
     "execution_count": 12,
     "metadata": {},
     "output_type": "execute_result"
    }
   ],
   "source": [
    "f1_score(y, y_pred_round)"
   ]
  },
  {
   "cell_type": "code",
   "execution_count": 13,
   "metadata": {},
   "outputs": [],
   "source": [
    "TN = CM[0][0] # 0 -> nao fiz acao, nao deu churn\n",
    "FN = CM[1][0] # 0 -> nao fiz acao, e cliente deu churn, mas ja daria mesmo sem o modelo de predicao (entao, em relacao ao caso de refenrencia, custo 0)\n",
    "TP = CM[1][1] # +++ -> gastei com a acao, mas conseguir reter o cliente (+LTV)\n",
    "FP = CM[0][1] # -- -> gastei com a acao, mas cliente nao daria churn"
   ]
  },
  {
   "cell_type": "code",
   "execution_count": 16,
   "metadata": {},
   "outputs": [
    {
     "data": {
      "text/plain": [
       "0.2714799085266253"
      ]
     },
     "execution_count": 16,
     "metadata": {},
     "output_type": "execute_result"
    }
   ],
   "source": [
    "# de todos que eu falo que são positivos, acerto precision%\n",
    "precision = TP / (TP + FP)\n",
    "precision"
   ]
  },
  {
   "cell_type": "code",
   "execution_count": 17,
   "metadata": {},
   "outputs": [
    {
     "data": {
      "text/plain": [
       "0.7060322854715378"
      ]
     },
     "execution_count": 17,
     "metadata": {},
     "output_type": "execute_result"
    }
   ],
   "source": [
    "# de todos que de fato são positivos, consigo identificar recall%\n",
    "recall = TP / (TP + FN)\n",
    "recall"
   ]
  },
  {
   "cell_type": "markdown",
   "metadata": {},
   "source": [
    "### Curva de Benefício\n",
    "\n",
    "Construa a Curva de benefício. \n",
    "- Qual o melhor threshold? \n",
    "- Esta ação vale a pena? \n",
    "- O que você acha que conteceria se o modelo perder performance? Custos da ação aumentarem ou o LTV do cliente diminuir? Se as classes deste problema forem mais ou menos desbalanceadas?"
   ]
  },
  {
   "cell_type": "code",
   "execution_count": null,
   "metadata": {},
   "outputs": [],
   "source": [
    "FPcost = -30\n",
    "TPcost = 170\n",
    "value_total_vec = []\n",
    "array_thresh = [0,0.1,0.2,0.3,0.4,0.5,0.6,0.7,0.8,0.9,1.0, 1.1]\n",
    "for threshold in array_thresh:\n",
    "    # define 1/0's\n",
    "    # create confusion matrix\n",
    "    # compute total value (based on costs defined above)\n",
    "    # save the results in value_total_vec"
   ]
  }
 ],
 "metadata": {
  "kernelspec": {
   "display_name": "Python 3 (ipykernel)",
   "language": "python",
   "name": "python3"
  },
  "language_info": {
   "codemirror_mode": {
    "name": "ipython",
    "version": 3
   },
   "file_extension": ".py",
   "mimetype": "text/x-python",
   "name": "python",
   "nbconvert_exporter": "python",
   "pygments_lexer": "ipython3",
   "version": "3.9.7"
  }
 },
 "nbformat": 4,
 "nbformat_minor": 2
}
