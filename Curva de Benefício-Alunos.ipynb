{
 "cells": [
  {
   "cell_type": "markdown",
   "metadata": {},
   "source": [
    "## Exercício: Curva de Benefício\n",
    "\n",
    "Assuma que estamos lidando com um problema de churn e gostaríamos de entender qual o threshold ótimo da minha classificação. Considere que:\n",
    "- `y_pred` é o output do meu classificador, indicando a probabilidade de um cliente dar churn, obtido em um backtest\n",
    "- `y` é o valor real medido, no backtest\n",
    "\n",
    "Nesta ação, os clientes identificados com alta probabilidade de churn irão receber um voucher de R$30,00 de compras, através de uma ação no próprio site e divulgação por push. Assuma ainda que:\n",
    "\n",
    "- Cada cliente tem um LTV potencial futuro de R\\$ 200,00 (ou seja, perder um cliente custa esse valor para a empresa)\n",
    "- A ação comercial é 100% eficaz para evitar o churn: O cliente impactado pela iniciativa tem 100% de chance de permanecer na empresa\n",
    "\n",
    "\n",
    "\n",
    "Obs.: Para cálculo dos valores financeiros, a sugestão é sempre comparar com um caso de referência (ex. caso não houvesse nenhum modelo de churn)\n",
    "\n",
    "\n"
   ]
  },
  {
   "cell_type": "code",
   "execution_count": 1,
   "metadata": {},
   "outputs": [],
   "source": [
    "import numpy as np\n",
    "import random\n",
    "import pandas as pd\n",
    "import matplotlib.pyplot as plt\n",
    "from sklearn.metrics import confusion_matrix, roc_auc_score, f1_score\n",
    "import matplotlib.pyplot as plt\n",
    "from sklearn import metrics\n",
    "%matplotlib inline\n",
    "\n",
    "N = 10000\n",
    "y_pred = np.random.poisson(10, N)\n",
    "y_pred = y_pred/max(y_pred)\n",
    "\n",
    "# Create y\n",
    "y = y_pred -0.2 + np.random.randn(N)/5\n",
    "y = y.round(0)\n",
    "y = np.clip(y, 0, 1)"
   ]
  },
  {
   "cell_type": "code",
   "execution_count": 2,
   "metadata": {},
   "outputs": [
    {
     "data": {
      "image/png": "[encoded data removed]",
      "text/plain": [
       "<Figure size 432x288 with 1 Axes>"
      ]
     },
     "metadata": {
      "needs_background": "light"
     },
     "output_type": "display_data"
    }
   ],
   "source": [
    "count, bins, ignored = plt.hist(y_pred, 20, density=True)\n",
    "plt.show()"
   ]
  },
  {
   "cell_type": "code",
   "execution_count": 3,
   "metadata": {},
   "outputs": [
    {
     "data": {
      "image/png": "[encoded data removed]",
      "text/plain": [
       "<Figure size 432x288 with 1 Axes>"
      ]
     },
     "metadata": {
      "needs_background": "light"
     },
     "output_type": "display_data"
    }
   ],
   "source": [
    "count, bins, ignored = plt.hist(y, 20, density=True)\n",
    "plt.show()"
   ]
  },
  {
   "cell_type": "markdown",
   "metadata": {},
   "source": [
    "### Métrica - AUC\n",
    "\n",
    "Visualizando métricas simples, que independem do theshold"
   ]
  },
  {
   "cell_type": "code",
   "execution_count": 4,
   "metadata": {},
   "outputs": [
    {
     "data": {
      "text/plain": [
       "0.7981163307838817"
      ]
     },
     "execution_count": 4,
     "metadata": {},
     "output_type": "execute_result"
    }
   ],
   "source": [
    "roc_auc_score(y, y_pred)"
   ]
  },
  {
   "cell_type": "markdown",
   "metadata": {},
   "source": [
    "### Confusion Matrix\n",
    "Pela matriz de confusão, obtemos os valores de TN, FN, TP, FP"
   ]
  },
  {
   "cell_type": "code",
   "execution_count": 5,
   "metadata": {},
   "outputs": [
    {
     "data": {
      "text/plain": [
       "array([[7440, 1519],\n",
       "       [ 450,  591]], dtype=int64)"
      ]
     },
     "execution_count": 5,
     "metadata": {},
     "output_type": "execute_result"
    }
   ],
   "source": [
    "threshold = 0.5\n",
    "y_pred_round = [1 if x >= threshold else 0 for x in y_pred]\n",
    "CM = confusion_matrix(y, y_pred_round)\n",
    "CM"
   ]
  },
  {
   "cell_type": "code",
   "execution_count": 6,
   "metadata": {},
   "outputs": [
    {
     "data": {
      "text/plain": [
       "0.37511900983814667"
      ]
     },
     "execution_count": 6,
     "metadata": {},
     "output_type": "execute_result"
    }
   ],
   "source": [
    "f1_score(y, y_pred_round)"
   ]
  },
  {
   "cell_type": "code",
   "execution_count": 7,
   "metadata": {},
   "outputs": [],
   "source": [
    "TN = CM[0][0]\n",
    "FN = CM[1][0]\n",
    "TP = CM[1][1]\n",
    "FP = CM[0][1]"
   ]
  },
  {
   "cell_type": "code",
   "execution_count": 8,
   "metadata": {},
   "outputs": [
    {
     "data": {
      "text/plain": [
       "0.2800947867298578"
      ]
     },
     "execution_count": 8,
     "metadata": {},
     "output_type": "execute_result"
    }
   ],
   "source": [
    "# de todos que eu falo que são positivos, acerto precision%\n",
    "precision = TP / (TP + FP)\n",
    "precision"
   ]
  },
  {
   "cell_type": "code",
   "execution_count": 9,
   "metadata": {},
   "outputs": [
    {
     "data": {
      "text/plain": [
       "0.5677233429394812"
      ]
     },
     "execution_count": 9,
     "metadata": {},
     "output_type": "execute_result"
    }
   ],
   "source": [
    "# de todos que de fato são positivos, consigo identificar recall%\n",
    "recall = TP / (TP + FN)\n",
    "recall"
   ]
  },
  {
   "cell_type": "markdown",
   "metadata": {},
   "source": [
    "### Curva de Benefício\n",
    "\n",
    "Construa a Curva de benefício. \n",
    "- Qual o melhor threshold? \n",
    "- Esta ação vale a pena? \n",
    "- O que você acha que conteceria se o modelo perder performance? Custos da ação aumentarem ou o LTV do cliente diminuir? Se as classes deste problema forem mais ou menos desbalanceadas?"
   ]
  }
 ],
 "metadata": {
  "kernelspec": {
   "display_name": "Python 3",
   "language": "python",
   "name": "python3"
  },
  "language_info": {
   "codemirror_mode": {
    "name": "ipython",
    "version": 3
   },
   "file_extension": ".py",
   "mimetype": "text/x-python",
   "name": "python",
   "nbconvert_exporter": "python",
   "pygments_lexer": "ipython3",
   "version": "3.7.6"
  }
 },
 "nbformat": 4,
 "nbformat_minor": 2
}
