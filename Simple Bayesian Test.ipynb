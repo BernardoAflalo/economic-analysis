{
 "cells": [
  {
   "cell_type": "code",
   "execution_count": 1,
   "metadata": {},
   "outputs": [],
   "source": [
    "#  based on https://towardsdatascience.com/bayesian-a-b-testing-with-python-the-easy-guide-d638f89e0b8a\n",
    "\n",
    "from math import lgamma\n",
    "import matplotlib.pyplot as plt\n",
    "from scipy.stats import beta\n",
    "import numpy as np\n",
    "\n",
    "#defining the functions used\n",
    "def h(a, b, c, d):\n",
    "    num = lgamma(a + c) + lgamma(b + d) + lgamma(a + b) + lgamma(c + d)\n",
    "    den = lgamma(a) + lgamma(b) + lgamma(c) + lgamma(d) + lgamma(a + b + c + d)\n",
    "    return np.exp(num - den)\n",
    "\n",
    "def g0(a, b, c):    \n",
    "    return np.exp(lgamma(a + b) + lgamma(a + c) - (lgamma(a + b + c) + lgamma(a)))\n",
    "\n",
    "def hiter(a, b, c, d):\n",
    "    while d > 1:\n",
    "        d -= 1\n",
    "        yield h(a, b, c, d) / d\n",
    "\n",
    "def g(a, b, c, d):\n",
    "    return g0(a, b, c) + sum(hiter(a, b, c, d))\n",
    "\n",
    "def calc_prob_between(beta1, beta2):\n",
    "    return g(beta1.args[0], beta1.args[1], beta2.args[0], beta2.args[1])"
   ]
  },
  {
   "cell_type": "code",
   "execution_count": 2,
   "metadata": {},
   "outputs": [
    {
     "name": "stdout",
     "output_type": "stream",
     "text": [
      "Test option lift Conversion Rates by 59.68% with 98.2% probability.\n"
     ]
    }
   ],
   "source": [
    "\n",
    "\n",
    "#This is the known data: imporessions and conversions for the Control and Test set\n",
    "imps_ctrl,convs_ctrl=16500, 30 \n",
    "imps_test, convs_test=17000, 50\n",
    "\n",
    "#here we create the Beta functions for the two sets\n",
    "a_C, b_C = convs_ctrl+1, imps_ctrl-convs_ctrl+1\n",
    "beta_C = beta(a_C, b_C)\n",
    "a_T, b_T = convs_test+1, imps_test-convs_test+1\n",
    "beta_T = beta(a_T, b_T)\n",
    "\n",
    "#calculating the lift\n",
    "lift=(beta_T.mean()-beta_C.mean())/beta_C.mean()\n",
    "\n",
    "#calculating the probability for Test to be better than Control\n",
    "prob=calc_prob_between(beta_T, beta_C)\n",
    "\n",
    "print (f\"Test option lift Conversion Rates by {lift*100:2.2f}% with {prob*100:2.1f}% probability.\")\n",
    "#output: Test option lift Conversion Rates by 59.68% with 98.2% probability."
   ]
  },
  {
   "cell_type": "markdown",
   "metadata": {},
   "source": [
    "### Explicando o teste Bayesiano"
   ]
  },
  {
   "cell_type": "markdown",
   "metadata": {},
   "source": [
    "\n",
    "![DistribBeta](https://miro.medium.com/max/540/1*8CxN7lOhf3ChFg3Mur-6kw.gif \"DistribBeta\")"
   ]
  },
  {
   "cell_type": "code",
   "execution_count": 4,
   "metadata": {},
   "outputs": [
    {
     "data": {
      "image/png": "[encoded data removed]",
      "text/plain": [
       "<Figure size 432x288 with 1 Axes>"
      ]
     },
     "metadata": {
      "needs_background": "light"
     },
     "output_type": "display_data"
    }
   ],
   "source": [
    "def calc_beta_mode(a, b):\n",
    "    '''this function calculate the mode (peak) of the Beta distribution'''\n",
    "    return (a-1)/(a+b-2)\n",
    "\n",
    "def plot(betas, names, linf=0, lsup=0.01):\n",
    "    '''this function plots the Beta distribution'''\n",
    "    x=np.linspace(linf,lsup, 100)\n",
    "    for f, name in zip(betas,names) :\n",
    "        y=f.pdf(x) #this for calculate the value for the PDF at the specified x-points\n",
    "        y_mode=calc_beta_mode(f.args[0], f.args[1])\n",
    "        y_var=f.var() # the variance of the Beta distribution\n",
    "        plt.plot(x,y, label=f\"{name} sample, conversion rate: {y_mode:0.1E} $\\pm$ {y_var:0.1E}\")\n",
    "        plt.yticks([])\n",
    "    plt.legend()\n",
    "    plt.show()\n",
    "\n",
    "plot([beta_C, beta_T], names=[\"Control\", \"Test\"])"
   ]
  }
 ],
 "metadata": {
  "kernelspec": {
   "display_name": "Python 3",
   "language": "python",
   "name": "python3"
  },
  "language_info": {
   "codemirror_mode": {
    "name": "ipython",
    "version": 3
   },
   "file_extension": ".py",
   "mimetype": "text/x-python",
   "name": "python",
   "nbconvert_exporter": "python",
   "pygments_lexer": "ipython3",
   "version": "3.7.6"
  }
 },
 "nbformat": 4,
 "nbformat_minor": 4
}
